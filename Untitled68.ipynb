{
  "nbformat": 4,
  "nbformat_minor": 0,
  "metadata": {
    "colab": {
      "provenance": [],
      "authorship_tag": "ABX9TyPxg/XTPfHMwiP/YjWNthvf",
      "include_colab_link": true
    },
    "kernelspec": {
      "name": "python3",
      "display_name": "Python 3"
    },
    "language_info": {
      "name": "python"
    }
  },
  "cells": [
    {
      "cell_type": "markdown",
      "metadata": {
        "id": "view-in-github",
        "colab_type": "text"
      },
      "source": [
        "<a href=\"https://colab.research.google.com/github/SuperMBA/-/blob/main/Untitled68.ipynb\" target=\"_parent\"><img src=\"https://colab.research.google.com/assets/colab-badge.svg\" alt=\"Open In Colab\"/></a>"
      ]
    },
    {
      "cell_type": "code",
      "execution_count": null,
      "metadata": {
        "id": "tdOP2f-LIwU0"
      },
      "outputs": [],
      "source": [
        "import pandas as pd\n"
      ]
    },
    {
      "cell_type": "code",
      "source": [
        "# Загрузка данных\n",
        "train = pd.read_csv('/content/fmnist_train.csv')\n",
        "test = pd.read_csv('/content/fmnist_test.csv')"
      ],
      "metadata": {
        "id": "4W7dDX3YJMvY"
      },
      "execution_count": null,
      "outputs": []
    },
    {
      "cell_type": "code",
      "source": [
        "# Проверим размеры данных\n",
        "print(\"Размер обучающей выборки:\", train.shape)\n",
        "print(\"Размер тестовой выборки:\", test.shape)"
      ],
      "metadata": {
        "colab": {
          "base_uri": "https://localhost:8080/"
        },
        "id": "1OGwAiu5JRL7",
        "outputId": "7a7fce39-5785-4df7-c714-3c6c9b6b3dc5"
      },
      "execution_count": null,
      "outputs": [
        {
          "output_type": "stream",
          "name": "stdout",
          "text": [
            "Размер обучающей выборки: (17040, 786)\n",
            "Размер тестовой выборки: (10000, 785)\n"
          ]
        }
      ]
    },
    {
      "cell_type": "code",
      "source": [
        "# Проверка наличия NaN значений\n",
        "print(\"\\nПропущенные значения в обучающей выборке:\")\n",
        "print(train.isnull().sum().sum())\n",
        "\n",
        "print(\"\\nПропущенные значения в тестовой выборке:\")\n",
        "print(test.isnull().sum().sum())\n",
        "\n",
        "# Быстрый просмотр первых строк обучающей выборки\n",
        "print(\"\\nПервые строки обучающей выборки:\")\n",
        "print(train.head())"
      ],
      "metadata": {
        "colab": {
          "base_uri": "https://localhost:8080/"
        },
        "id": "q3pVrKYnJWtO",
        "outputId": "75ca6348-0c9b-40b4-8c12-0a786e17cdfa"
      },
      "execution_count": null,
      "outputs": [
        {
          "output_type": "stream",
          "name": "stdout",
          "text": [
            "\n",
            "Пропущенные значения в обучающей выборке:\n",
            "424\n",
            "\n",
            "Пропущенные значения в тестовой выборке:\n",
            "0\n",
            "\n",
            "Первые строки обучающей выборки:\n",
            "   label  pixel1  pixel2  pixel3  pixel4  pixel5  pixel6  pixel7  pixel8  \\\n",
            "0      2       0       0       0       0       0       0       0       0   \n",
            "1      9       0       0       0       0       0       0       0       0   \n",
            "2      6       0       0       0       0       0       0       0       5   \n",
            "3      0       0       0       0       1       2       0       0       0   \n",
            "4      3       0       0       0       0       0       0       0       0   \n",
            "\n",
            "   pixel9  ...  pixel776  pixel777  pixel778  pixel779  pixel780  pixel781  \\\n",
            "0       0  ...       0.0       0.0       0.0       0.0       0.0       0.0   \n",
            "1       0  ...       0.0       0.0       0.0       0.0       0.0       0.0   \n",
            "2       0  ...       0.0       0.0      30.0      43.0       0.0       0.0   \n",
            "3       0  ...       0.0       0.0       0.0       0.0       1.0       0.0   \n",
            "4       0  ...       0.0       0.0       0.0       0.0       0.0       0.0   \n",
            "\n",
            "   pixel782  pixel783  pixel784  Id  \n",
            "0       0.0       0.0       0.0   0  \n",
            "1       0.0       0.0       0.0   1  \n",
            "2       0.0       0.0       0.0   2  \n",
            "3       0.0       0.0       0.0   3  \n",
            "4       0.0       0.0       0.0   4  \n",
            "\n",
            "[5 rows x 786 columns]\n"
          ]
        }
      ]
    },
    {
      "cell_type": "code",
      "source": [
        "# Посчитаем, сколько строк содержат NaN\n",
        "nan_rows = train[train.isnull().any(axis=1)]\n",
        "print(\"Количество строк с NaN:\", len(nan_rows))\n",
        "\n",
        "# Посмотрим, сколько NaN в каждой строке\n",
        "print(nan_rows.isnull().sum(axis=1).value_counts())\n"
      ],
      "metadata": {
        "colab": {
          "base_uri": "https://localhost:8080/"
        },
        "id": "fhB3agUaJ64r",
        "outputId": "1f78d396-a5b9-4a8b-e627-ed33bdd4caa7"
      },
      "execution_count": null,
      "outputs": [
        {
          "output_type": "stream",
          "name": "stdout",
          "text": [
            "Количество строк с NaN: 1\n",
            "424    1\n",
            "Name: count, dtype: int64\n"
          ]
        }
      ]
    },
    {
      "cell_type": "code",
      "source": [
        "# Удалим единственную строку с пропусками\n",
        "train_clean = train.dropna()\n",
        "\n",
        "print(\"Новая размерность обучающей выборки:\", train_clean.shape)\n"
      ],
      "metadata": {
        "colab": {
          "base_uri": "https://localhost:8080/"
        },
        "id": "FkDQgL4EKH4w",
        "outputId": "8a822c4e-55da-4c3c-f0c6-2b01c9af8889"
      },
      "execution_count": null,
      "outputs": [
        {
          "output_type": "stream",
          "name": "stdout",
          "text": [
            "Новая размерность обучающей выборки: (17039, 786)\n"
          ]
        }
      ]
    },
    {
      "cell_type": "code",
      "source": [
        "# Разделим данные\n",
        "import matplotlib.pyplot as plt\n",
        "from sklearn.model_selection import train_test_split\n",
        "X = train.drop(columns=['label', 'Id'])\n",
        "y = train['label']\n",
        "X_test = test.drop(columns=['Id'])\n",
        "\n",
        "# Нормализуем пиксели\n",
        "X = X / 255.0\n",
        "X_test = X_test / 255.0\n",
        "\n",
        "# Разделим на обучающую и валидационную выборку\n",
        "X_train, X_val, y_train, y_val = train_test_split(X, y, test_size=0.2, random_state=42)\n",
        "\n",
        "# Визуализация 10 первых изображений\n",
        "fig, axes = plt.subplots(1, 10, figsize=(15, 2))\n",
        "for i, ax in enumerate(axes):\n",
        "    ax.imshow(X_train.iloc[i].values.reshape(28, 28), cmap='gray')\n",
        "    ax.set_title(f\"{y_train.iloc[i]}\")\n",
        "    ax.axis('off')\n",
        "plt.show()"
      ],
      "metadata": {
        "colab": {
          "base_uri": "https://localhost:8080/",
          "height": 147
        },
        "id": "dEFSfbqROb-A",
        "outputId": "a4fcef2b-3402-4ac6-f58e-4497acf87f03"
      },
      "execution_count": null,
      "outputs": [
        {
          "output_type": "display_data",
          "data": {
            "text/plain": [
              "<Figure size 1500x200 with 10 Axes>"
            ],
            "image/png": "[encoded data removed]"
          },
          "metadata": {}
        }
      ]
    },
    {
      "cell_type": "code",
      "source": [
        "from sklearn.ensemble import RandomForestClassifier\n",
        "from sklearn.metrics import accuracy_score\n",
        "\n",
        "# Обучение модели\n",
        "clf = RandomForestClassifier(n_estimators=100, random_state=42)\n",
        "clf.fit(X_train, y_train)\n",
        "\n",
        "# Предсказания на валидационной выборке\n",
        "y_val_pred = clf.predict(X_val)\n",
        "val_accuracy = accuracy_score(y_val, y_val_pred)\n",
        "print(f\"Accuracy на валидационной выборке: {val_accuracy:.4f}\")\n",
        "\n",
        "# Предсказания на тестовой выборке\n",
        "test_preds = clf.predict(X_test)\n",
        "\n",
        "# Формирование файла submission\n",
        "sample_submission = pd.read_csv('/content/sample_submission.csv')\n",
        "sample_submission['label'] = test_preds\n",
        "sample_submission.to_csv('sample_submission.csv', index=False)\n",
        "\n",
        "print(\"Файл sample_submission.csv сохранён.\")"
      ],
      "metadata": {
        "colab": {
          "base_uri": "https://localhost:8080/"
        },
        "id": "7wnbzWEzO4Ue",
        "outputId": "19caf86b-850e-41f8-d0d8-7479792291b7"
      },
      "execution_count": null,
      "outputs": [
        {
          "output_type": "stream",
          "name": "stdout",
          "text": [
            "Accuracy на валидационной выборке: 0.8600\n",
            "Файл sample_submission.csv сохранён.\n"
          ]
        }
      ]
    },
    {
      "cell_type": "code",
      "source": [
        "from google.colab import files\n",
        "files.download('sample_submission.csv')\n"
      ],
      "metadata": {
        "id": "H6JohpV3Prfo",
        "outputId": "a131df03-1097-41cf-cd96-d3600265c198",
        "colab": {
          "base_uri": "https://localhost:8080/",
          "height": 17
        }
      },
      "execution_count": null,
      "outputs": [
        {
          "output_type": "display_data",
          "data": {
            "text/plain": [
              "<IPython.core.display.Javascript object>"
            ],
            "application/javascript": [
              "\n",
              "    async function download(id, filename, size) {\n",
              "      if (!google.colab.kernel.accessAllowed) {\n",
              "        return;\n",
              "      }\n",
              "      const div = document.createElement('div');\n",
              "      const label = document.createElement('label');\n",
              "      label.textContent = `Downloading \"${filename}\": `;\n",
              "      div.appendChild(label);\n",
              "      const progress = document.createElement('progress');\n",
              "      progress.max = size;\n",
              "      div.appendChild(progress);\n",
              "      document.body.appendChild(div);\n",
              "\n",
              "      const buffers = [];\n",
              "      let downloaded = 0;\n",
              "\n",
              "      const channel = await google.colab.kernel.comms.open(id);\n",
              "      // Send a message to notify the kernel that we're ready.\n",
              "      channel.send({})\n",
              "\n",
              "      for await (const message of channel.messages) {\n",
              "        // Send a message to notify the kernel that we're ready.\n",
              "        channel.send({})\n",
              "        if (message.buffers) {\n",
              "          for (const buffer of message.buffers) {\n",
              "            buffers.push(buffer);\n",
              "            downloaded += buffer.byteLength;\n",
              "            progress.value = downloaded;\n",
              "          }\n",
              "        }\n",
              "      }\n",
              "      const blob = new Blob(buffers, {type: 'application/binary'});\n",
              "      const a = document.createElement('a');\n",
              "      a.href = window.URL.createObjectURL(blob);\n",
              "      a.download = filename;\n",
              "      div.appendChild(a);\n",
              "      a.click();\n",
              "      div.remove();\n",
              "    }\n",
              "  "
            ]
          },
          "metadata": {}
        },
        {
          "output_type": "display_data",
          "data": {
            "text/plain": [
              "<IPython.core.display.Javascript object>"
            ],
            "application/javascript": [
              "download(\"download_4f3e6187-142f-42b4-a968-d5b3dd01c09e\", \"sample_submission.csv\", 68899)"
            ]
          },
          "metadata": {}
        }
      ]
    }
  ]
}